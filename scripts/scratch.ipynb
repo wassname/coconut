{
 "cells": [
  {
   "cell_type": "code",
   "execution_count": 1,
   "metadata": {},
   "outputs": [],
   "source": [
    "# try to load a model\n",
    "\n",
    "from transformers import AutoModelForCausalLM, AutoTokenizer\n",
    "import yaml\n",
    "import torch\n",
    "# from coconut.coconut import Coconut\n",
    "from coconut.utils import Config, set_seed, ProgressCallbackNoPrint, rm_old_prog_cb\n"
   ]
  },
  {
   "cell_type": "code",
   "execution_count": 2,
   "metadata": {},
   "outputs": [],
   "source": []
  },
  {
   "cell_type": "markdown",
   "metadata": {},
   "source": [
    "## Load"
   ]
  },
  {
   "cell_type": "code",
   "execution_count": 3,
   "metadata": {},
   "outputs": [],
   "source": [
    "from coconut.coconut import (\n",
    "    CoconutConfig,\n",
    "    CoconutQwen2ForCausalLM,\n",
    ")\n",
    "\n",
    "f = \"../outputs/gsm-qwen-1.5b_20250130-193831/checkpoint_1\"\n",
    "f2 = f + '/config.yaml'\n",
    "with open(fc) as f2:\n",
    "    config_dict = yaml.safe_load(f2)\n",
    "configs = Config(config_dict)\n",
    "\n",
    "model = CoconutQwen2ForCausalLM.from_pretrained(f)\n",
    "tokenizer = AutoTokenizer.from_pretrained(f)\n",
    "# model.load_state_dict(safe_open(f1, 'pt'))"
   ]
  },
  {
   "cell_type": "markdown",
   "metadata": {},
   "source": [
    "## Eval"
   ]
  },
  {
   "cell_type": "code",
   "execution_count": 5,
   "metadata": {},
   "outputs": [
    {
     "data": {
      "text/plain": [
       "Qwen2Config {\n",
       "  \"_attn_implementation_autoset\": true,\n",
       "  \"_name_or_path\": \"../outputs/gsm-qwen-1.5b_20250130-193831/checkpoint_1\",\n",
       "  \"architectures\": [\n",
       "    \"CoconutQwen2ForCausalLM\"\n",
       "  ],\n",
       "  \"attention_dropout\": 0.0,\n",
       "  \"bos_token_id\": 151643,\n",
       "  \"eos_token_id\": 151643,\n",
       "  \"hidden_act\": \"silu\",\n",
       "  \"hidden_size\": 1536,\n",
       "  \"initializer_range\": 0.02,\n",
       "  \"intermediate_size\": 8960,\n",
       "  \"latent_token_id\": 151667,\n",
       "  \"max_position_embeddings\": 4096,\n",
       "  \"max_window_layers\": 21,\n",
       "  \"model_type\": \"qwen2\",\n",
       "  \"num_attention_heads\": 12,\n",
       "  \"num_hidden_layers\": 28,\n",
       "  \"num_key_value_heads\": 2,\n",
       "  \"replacement_method\": \"0.5\",\n",
       "  \"rms_norm_eps\": 1e-06,\n",
       "  \"rope_scaling\": null,\n",
       "  \"rope_theta\": 10000,\n",
       "  \"sliding_window\": null,\n",
       "  \"tie_word_embeddings\": true,\n",
       "  \"torch_dtype\": \"bfloat16\",\n",
       "  \"transformers_version\": \"4.46.2\",\n",
       "  \"use_cache\": true,\n",
       "  \"use_mrope\": false,\n",
       "  \"use_sliding_window\": false,\n",
       "  \"vocab_size\": 151668\n",
       "}"
      ]
     },
     "execution_count": 5,
     "metadata": {},
     "output_type": "execute_result"
    }
   ],
   "source": [
    "from coconut.dataset import (\n",
    "    CoconutCollator,\n",
    "    get_cot_latent_dataset,\n",
    "    get_dataset,\n",
    "    get_question_only_latent_dataset,\n",
    ")\n",
    "from coconut.eval import evaluate\n",
    "\n",
    "bot_id = tokenizer.convert_tokens_to_ids(\"<|start-latent|>\")\n",
    "eot_id = tokenizer.convert_tokens_to_ids(\"<|end-latent|>\")\n",
    "scheduled_stage = 3\n",
    "latent_id = tokenizer.convert_tokens_to_ids(\"<|latent|>\")\n",
    "\n",
    "max_size = 1024\n",
    "base_dataset_valid = get_dataset(\n",
    "    configs.val_path, tokenizer, max_size=max_size//30+3, drop_unused=False\n",
    ")\n",
    "\n",
    "dataset_gen_val = get_question_only_latent_dataset(\n",
    "    scheduled_stage,\n",
    "    base_dataset_valid,\n",
    "    configs,\n",
    "    bot_id,\n",
    "    latent_id,\n",
    "    eot_id,\n",
    "    no_bot_eot=False,\n",
    "    # drop_unused=False,\n",
    ")\n",
    "collator = CoconutCollator(tokenizer, latent_id=latent_id, label_pad_token_id=-100)\n",
    "valid_gen_dataloader = torch.utils.data.DataLoader(\n",
    "    dataset_gen_val,\n",
    "    num_workers=1,\n",
    "    pin_memory=True,\n",
    "    batch_size=1,\n",
    "    collate_fn=collator,\n",
    ")\n",
    "\n",
    "# run eval\n",
    "max_new_tokens = 64\n",
    "device = \"cuda\"\n",
    "dtype = torch.bfloat16\n",
    "phase = -1\n",
    "\n",
    "r = evaluate(valid_gen_dataloader, model, tokenizer, base_dataset_valid, max_new_tokens=max_new_tokens, name=f\"eval_{phase}\", dtype=dtype, device=device)"
   ]
  },
  {
   "cell_type": "code",
   "execution_count": null,
   "metadata": {},
   "outputs": [],
   "source": []
  }
 ],
 "metadata": {
  "kernelspec": {
   "display_name": ".venv",
   "language": "python",
   "name": "python3"
  },
  "language_info": {
   "codemirror_mode": {
    "name": "ipython",
    "version": 3
   },
   "file_extension": ".py",
   "mimetype": "text/x-python",
   "name": "python",
   "nbconvert_exporter": "python",
   "pygments_lexer": "ipython3",
   "version": "3.10.12"
  }
 },
 "nbformat": 4,
 "nbformat_minor": 2
}
